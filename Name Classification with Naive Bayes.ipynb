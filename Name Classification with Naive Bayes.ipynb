{
 "cells": [
  {
   "cell_type": "markdown",
   "metadata": {},
   "source": [
    "# Name Classification with Naive Bayes\n",
    "\n",
    "## Overview\n",
    "\n",
    "Focus of this project is to build a python module, that can determine if a person is Japanese or not, based on their name string. \n",
    "Final product is a class file containing `NameClassifier` class, capable of \n",
    "- loading & preprocessing train and test data\n",
    "- train the model\n",
    "- predict and evaluate the model\n",
    "- save & load trained model for future use\n",
    "\n",
    "The data of name strings with various origin from the world was obtained by using `Faker` library in python. 100000 fake names were created for each class for training and testing purposes. \n",
    "\n",
    "## Libraries / Dependencies\n",
    "\n",
    "Couple python libraries were used to build this class\n",
    "- scikit-learn\n",
    "- pandas\n",
    "- pickle\n",
    "\n",
    "In order to use the class, these libraries and their dependencies need to be installed on your system.\n",
    "\n",
    "## Setup and Locations\n",
    "\n",
    "This class is only tested on Ubuntu Linux 18.04 version, and can be used by importing the class. The class file `model.py` needs to be located in the directory where you intend to use it. Data and saved model file can be located anywhere, as long as you have relative path to them from the class file. However generally it's good idea to keep everything within same or its child's directory. \n",
    "\n",
    "Now the basics are all out of the way, let's get started!\n",
    "\n",
    "## Taking a look at data\n",
    "\n",
    "This module load in the name data as csv file using pandas. You should have separate csv files, each for Japanese and non-Japanese names. \n",
    "\n",
    "In a file, this would look like\n",
    "\n",
    ">Country, Address, name, other col..<br>\n",
    "value1, value2, John Smith, value4\n",
    "\n",
    "**As long as there are column named `name`, other columns won't be a problem.<br> \n",
    "There should always be a white space between first and last name though.**\n",
    "\n",
    "For example, using dataframe, the data might look like"
   ]
  },
  {
   "cell_type": "code",
   "execution_count": 1,
   "metadata": {},
   "outputs": [
    {
     "name": "stdout",
     "output_type": "stream",
     "text": [
      "Japanese Names: \n",
      "         code    name\n",
      "65886  jp_JP    中村 晃\n",
      "56486  jp_JP  青山 くみ子\n",
      "73021  jp_JP   加藤 知実\n",
      "73239  jp_JP  野村 美加子\n",
      "60836  jp_JP   石田 結衣\n",
      "29346  jp_JP   青山 春香\n",
      "39545  jp_JP    小林 晃\n",
      "38880  jp_JP  小泉 聡太郎\n",
      "22614  jp_JP   田辺 英樹\n",
      "74925  jp_JP   大垣 洋介\n",
      "\n",
      "non-Japanese Names:\n",
      "         code                  name\n",
      "66591  pt_BR  Srta. Agatha Freitas\n",
      "17437  en_AU           Calvin Hall\n",
      "94248  zh_CN                  陈 桂荣\n",
      "67145  pt_BR        Rodrigo Duarte\n",
      "44152  fr_FR      Agnès Carpentier\n",
      "68337  pt_BR           Caio Barros\n",
      "97603  zh_TW                  魏 佩君\n",
      "89041  uk_UA          Мілена Палій\n",
      "42054  fr_FR           Paul Hubert\n",
      "44291  fr_FR        Franck Jacques\n"
     ]
    }
   ],
   "source": [
    "import pandas as pd\n",
    "j_name = pd.read_csv('data/jp_names.csv')\n",
    "f_name = pd.read_csv('data/f_names.csv')\n",
    "\n",
    "print(\"Japanese Names: \\n\", j_name.sample(10))\n",
    "print(\"\\nnon-Japanese Names:\\n\", f_name.sample(10))"
   ]
  },
  {
   "cell_type": "markdown",
   "metadata": {},
   "source": [
    "## Preprocessing\n",
    "\n",
    "Preprocessing of data is one of the most important aspect of machine learing. It can boost or ruin the models' performance. \n",
    "Here, since we're dealing with text data, it needs to be encoded into numbers. \n",
    "\n",
    "### Spliting Dataset\n",
    "The dataset is splitted into train and test datasets, for model training and testing.\n",
    "Default ratio is set to \n",
    "> train : test = 70% : 30%\n",
    "\n",
    "This ratio can be modified if necessary.\n",
    "\n",
    "We use `NameClassifier.load_data()` method to load the data and split them into 2 dataset like this...\n",
    "\n",
    "\n",
    "\n"
   ]
  },
  {
   "cell_type": "code",
   "execution_count": 2,
   "metadata": {},
   "outputs": [
    {
     "name": "stdout",
     "output_type": "stream",
     "text": [
      "name data: \n",
      " 49782                              廣川 香織\n",
      "36503    Rodrigo Héctor Alejandro Zamora\n",
      "64099                 Dariusz Frankowicz\n",
      "23230                    Cassandra Allen\n",
      "90242                               董 玉华\n",
      "70934                          Mona Niță\n",
      "60380                              渚 くみ子\n",
      "61170                        Piotr Dybaś\n",
      "26908                              笹田 亮介\n",
      "44995                              三宅 健一\n",
      "Name: name, dtype: object\n",
      "\n",
      "labels:  [0 1 1 ... 0 0 1]\n"
     ]
    }
   ],
   "source": [
    "## import the class\n",
    "from model import NameClassifier\n",
    "\n",
    "# the method will return x_train, x_test, y_train, y_test in the particular order\n",
    "x_train, x_test, y_train, y_test = NameClassifier.load_data('data/jp_names.csv', 'data/f_names.csv', test_size=0.4)\n",
    "print('name data: \\n', x_train.sample(10))\n",
    "print('\\nlabels: ', y_train)"
   ]
  },
  {
   "cell_type": "markdown",
   "metadata": {},
   "source": [
    "## Bag of Words Model\n",
    "In this simple technique, each word that appear in the dataset are assigned with unique number, so that each text can be expressed as a sequence of the numbers.\n",
    "The sequences are converted into vector with each position / index representing each word, and value expressing the frequency of the occurence of the word.\n",
    "\n",
    "<br>\n",
    "Specifically in this class, word count is utilized with scikit-learn's `CountVectorizer`. \n",
    "\n",
    "\n",
    "\n",
    "<br>\n",
    "The data will be encoded into numpy sparse matrix, and is ready to be fed into the Naive Bayes model\n",
    "\n",
    "\n",
    "## How Naive Bayes works...\n",
    "\n",
    "Brah Brah....\n",
    "\n",
    "Using `Sklearn.naive_bayes.MultinomialNB` class.\n",
    "\n",
    "Encoding names with word count and traning naive bayes are done in `NameClassifer.train()` method, lile...\n",
    "\n"
   ]
  },
  {
   "cell_type": "code",
   "execution_count": 3,
   "metadata": {},
   "outputs": [
    {
     "name": "stdout",
     "output_type": "stream",
     "text": [
      "Fitting the vectorizer and training the model...\n",
      "training completed!\n"
     ]
    }
   ],
   "source": [
    "# First, instantiate the NameClassifer with your choice of name.\n",
    "clf = NameClassifier()\n",
    "\n",
    "# then start training with the training data\n",
    "clf.train(x_train, y_train)"
   ]
  },
  {
   "cell_type": "markdown",
   "metadata": {},
   "source": [
    "## Evaluation Metrics\n",
    "\n",
    "Model evaluation was done by testset, with 3 metrics.\n",
    "### accuracy\n",
    "how many data points did the model correclty predicted, regardless of class\n",
    "\n",
    "$$acc = \\frac{TP + TN}{Total Data}$$\n",
    "\n",
    "### precision\n",
    "Out of all predicted Japanese names, how many were actual Japanese names?\n",
    "\n",
    "$$precision = \\frac{TP}{TP + FP}$$\n",
    "### recall\n",
    "Out of all actual Japanese names, how many did we predict as Japanese?\n",
    "$$recall = \\frac{TP}{TP + FN}$$\n",
    "\n",
    "By using `NameClassifier.evaluate()`\n"
   ]
  },
  {
   "cell_type": "code",
   "execution_count": 4,
   "metadata": {},
   "outputs": [
    {
     "name": "stdout",
     "output_type": "stream",
     "text": [
      "accuracy: 99.8075%\n",
      "precision: 1.0\n",
      "recall: 0.9961563420356412\n"
     ]
    }
   ],
   "source": [
    "# with test data, this will calculate each metrics, and return a dictionary\n",
    "metrics = clf.evaluate(x_test, y_test)\n",
    "\n",
    "print('accuracy: {}%\\nprecision: {}\\nrecall: {}'.format(metrics['accuracy']*100, metrics['precision'], metrics['recall']))"
   ]
  },
  {
   "cell_type": "markdown",
   "metadata": {},
   "source": [
    "## Prediction\n",
    "\n",
    "Now let us predict some fake names, using the trained model. This can be done through `NameClassifier.predict()` method, and it accept python list of name strings. <br>\n",
    "Let's take a look."
   ]
  },
  {
   "cell_type": "code",
   "execution_count": 11,
   "metadata": {},
   "outputs": [
    {
     "name": "stdout",
     "output_type": "stream",
     "text": [
      "[1, 1, 0, 0]\n"
     ]
    }
   ],
   "source": [
    "some_names = ['渡辺　謙', '木村　拓哉', 'Jack Nicholson', ' 陳　港生']\n",
    "# Only the first 2 are Japanese name, so output should look like [1,1,0,0]\n",
    "pred = clf.predict(some_names)\n",
    "print(pred)"
   ]
  },
  {
   "cell_type": "markdown",
   "metadata": {},
   "source": [
    "## Saving and Loading the Model\n",
    "\n",
    "- Saving the trained model is easy, just use `NameClassifier.save_model()`\n",
    "- Loading can be done by `NameClassifier.load_model()`\n",
    "\n",
    "Both methods accept `path/to/modelFile/fileName.pickle` as argument."
   ]
  },
  {
   "cell_type": "code",
   "execution_count": 18,
   "metadata": {},
   "outputs": [],
   "source": [
    "clf.save_model('saved_model.pickle')"
   ]
  }
 ],
 "metadata": {
  "kernelspec": {
   "display_name": "Python 3",
   "language": "python",
   "name": "python3"
  },
  "language_info": {
   "codemirror_mode": {
    "name": "ipython",
    "version": 3
   },
   "file_extension": ".py",
   "mimetype": "text/x-python",
   "name": "python",
   "nbconvert_exporter": "python",
   "pygments_lexer": "ipython3",
   "version": "3.7.3"
  }
 },
 "nbformat": 4,
 "nbformat_minor": 2
}
